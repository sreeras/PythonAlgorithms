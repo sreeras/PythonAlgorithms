{
 "cells": [
  {
   "cell_type": "markdown",
   "metadata": {},
   "source": [
    "# Array Pair Sum"
   ]
  },
  {
   "cell_type": "code",
   "execution_count": 20,
   "metadata": {
    "collapsed": false
   },
   "outputs": [
    {
     "data": {
      "text/plain": [
       "2"
      ]
     },
     "execution_count": 20,
     "metadata": {},
     "output_type": "execute_result"
    }
   ],
   "source": [
    "def pair_sum(arr, k):\n",
    "    \n",
    "    arr.sort()\n",
    "    length = len(arr)\n",
    "    tuplelist = []\n",
    "    \n",
    "    if length < 2:\n",
    "        return 0\n",
    "    \n",
    "    for i in range(length):\n",
    "        diff = k - arr[i]\n",
    "        #print(\"Testing: \", arr[i], diff, k)\n",
    "        if diff in arr[i+1:]:\n",
    "            tuples = (arr[i], diff)\n",
    "            if not (tuples in tuplelist):\n",
    "                tuplelist.append(tuples)\n",
    "    return len(tuplelist)\n",
    "\n",
    "pair_sum([1,3,2,2],4)"
   ]
  },
  {
   "cell_type": "code",
   "execution_count": 19,
   "metadata": {
    "collapsed": false
   },
   "outputs": [
    {
     "name": "stdout",
     "output_type": "stream",
     "text": [
      "All test cases passed\n"
     ]
    }
   ],
   "source": [
    "from nose.tools import assert_equal\n",
    "\n",
    "class TestPair(object):\n",
    "    \n",
    "    def testpair(self, sol):\n",
    "        assert_equal(sol([1,3,2,2], 4), 2)\n",
    "        assert_equal(sol([1,1,1,1], 2), 1)\n",
    "        assert_equal(sol([1,3,2,2], 10), 0)\n",
    "        assert_equal(sol([1,3,2,2,1,3,2,2], 5), 1)\n",
    "        assert_equal(sol([1,1], 2), 1)\n",
    "        assert_equal(sol([1], 1), 0)\n",
    "        print(\"All test cases passed\")\n",
    "\n",
    "t = TestPair()\n",
    "t.testpair(pair_sum)"
   ]
  },
  {
   "cell_type": "code",
   "execution_count": null,
   "metadata": {
    "collapsed": true
   },
   "outputs": [],
   "source": []
  }
 ],
 "metadata": {
  "kernelspec": {
   "display_name": "Python 3",
   "language": "python",
   "name": "python3"
  },
  "language_info": {
   "codemirror_mode": {
    "name": "ipython",
    "version": 3
   },
   "file_extension": ".py",
   "mimetype": "text/x-python",
   "name": "python",
   "nbconvert_exporter": "python",
   "pygments_lexer": "ipython3",
   "version": "3.6.0"
  }
 },
 "nbformat": 4,
 "nbformat_minor": 2
}
