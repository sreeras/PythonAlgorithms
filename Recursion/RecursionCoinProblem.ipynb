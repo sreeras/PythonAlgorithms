{
 "cells": [
  {
   "cell_type": "markdown",
   "metadata": {},
   "source": [
    "# Coin Problem - Recursion"
   ]
  },
  {
   "cell_type": "code",
   "execution_count": 1,
   "metadata": {
    "collapsed": false
   },
   "outputs": [],
   "source": [
    "# target is int and coins is list\n",
    "def rec_coin(target, coins):\n",
    "    \n",
    "    coinCnt = 0\n",
    "    \n",
    "    if target == 0:\n",
    "        return 0\n",
    "    \n",
    "    if target in coins:\n",
    "        return 1\n",
    "    else:\n",
    "        for coin in [c for c in coins if c <= target]:\n",
    "            coinCnt = 1 + rec_coin(target-coin, coins)\n",
    "    return coinCnt\n",
    "        "
   ]
  },
  {
   "cell_type": "code",
   "execution_count": 2,
   "metadata": {
    "collapsed": false
   },
   "outputs": [
    {
     "data": {
      "text/plain": [
       "1"
      ]
     },
     "execution_count": 2,
     "metadata": {},
     "output_type": "execute_result"
    }
   ],
   "source": [
    "rec_coin(10, [1,5,10])"
   ]
  },
  {
   "cell_type": "code",
   "execution_count": 3,
   "metadata": {
    "collapsed": false
   },
   "outputs": [
    {
     "data": {
      "text/plain": [
       "1"
      ]
     },
     "execution_count": 3,
     "metadata": {},
     "output_type": "execute_result"
    }
   ],
   "source": [
    "rec_coin(5, [1,5,10])"
   ]
  },
  {
   "cell_type": "code",
   "execution_count": 4,
   "metadata": {
    "collapsed": false
   },
   "outputs": [
    {
     "data": {
      "text/plain": [
       "0"
      ]
     },
     "execution_count": 4,
     "metadata": {},
     "output_type": "execute_result"
    }
   ],
   "source": [
    "rec_coin(0, [1,5,10])"
   ]
  },
  {
   "cell_type": "code",
   "execution_count": 5,
   "metadata": {
    "collapsed": false
   },
   "outputs": [
    {
     "data": {
      "text/plain": [
       "1"
      ]
     },
     "execution_count": 5,
     "metadata": {},
     "output_type": "execute_result"
    }
   ],
   "source": [
    "rec_coin(50, [1,7,10,20,50])"
   ]
  },
  {
   "cell_type": "code",
   "execution_count": 6,
   "metadata": {
    "collapsed": false
   },
   "outputs": [
    {
     "name": "stdout",
     "output_type": "stream",
     "text": [
      "1 loop, best of 3: 3.32 s per loop\n"
     ]
    }
   ],
   "source": [
    "timeit(rec_coin(63, [1,7,10,20,50]))"
   ]
  },
  {
   "cell_type": "code",
   "execution_count": 7,
   "metadata": {
    "collapsed": true
   },
   "outputs": [],
   "source": [
    "# target is int and coins is list\n",
    "def rec_coin_1(target, coins):\n",
    "    \n",
    "    coinCnt = 0\n",
    "    \n",
    "    if target == 0:\n",
    "        return 0\n",
    "    \n",
    "    if target in coins:\n",
    "        return 1\n",
    "    else:\n",
    "        for coin in [max([c for c in coins if c <= target])]:\n",
    "            coinCnt = (target//coin) + rec_coin_1((target%coin), coins)\n",
    "    return coinCnt\n",
    "        "
   ]
  },
  {
   "cell_type": "code",
   "execution_count": 8,
   "metadata": {
    "collapsed": false
   },
   "outputs": [
    {
     "data": {
      "text/plain": [
       "3"
      ]
     },
     "execution_count": 8,
     "metadata": {},
     "output_type": "execute_result"
    }
   ],
   "source": [
    "rec_coin_1(101, [1,7,10,20,23,50])"
   ]
  },
  {
   "cell_type": "code",
   "execution_count": 9,
   "metadata": {
    "collapsed": false
   },
   "outputs": [
    {
     "data": {
      "text/plain": [
       "0"
      ]
     },
     "execution_count": 9,
     "metadata": {},
     "output_type": "execute_result"
    }
   ],
   "source": [
    "rec_coin_1(0, [1,7,10,20,23,50])"
   ]
  },
  {
   "cell_type": "code",
   "execution_count": 10,
   "metadata": {
    "collapsed": false
   },
   "outputs": [
    {
     "name": "stdout",
     "output_type": "stream",
     "text": [
      "100000 loops, best of 3: 3.86 µs per loop\n"
     ]
    }
   ],
   "source": [
    "timeit(rec_coin_1(63, [1,7,10,20,50]))"
   ]
  },
  {
   "cell_type": "code",
   "execution_count": 11,
   "metadata": {
    "collapsed": false
   },
   "outputs": [
    {
     "data": {
      "text/plain": [
       "2"
      ]
     },
     "execution_count": 11,
     "metadata": {},
     "output_type": "execute_result"
    }
   ],
   "source": [
    "rec_coin_1(6, [1,3,7,10,20,50])"
   ]
  },
  {
   "cell_type": "markdown",
   "metadata": {},
   "source": [
    "# Coin Problem with inefficient algo but with memoization "
   ]
  },
  {
   "cell_type": "code",
   "execution_count": 12,
   "metadata": {
    "collapsed": false
   },
   "outputs": [],
   "source": [
    "def memo_coin(target, coins, coinCnt={}):\n",
    "    \n",
    "    if target == 0:\n",
    "        coinCnt[target] = 0\n",
    "        return 0\n",
    "    \n",
    "    if target in coins:\n",
    "        coinCnt[target] = 1\n",
    "        return 1\n",
    "    \n",
    "    if not target in coinCnt:\n",
    "        \n",
    "        for coin in [c for c in coins if c <= target]:\n",
    "            coinCnt[target] = 1 + memo_coin(target-coin, coins, coinCnt)\n",
    "    \n",
    "    return coinCnt[target]\n",
    "        \n",
    "    "
   ]
  },
  {
   "cell_type": "code",
   "execution_count": 13,
   "metadata": {
    "collapsed": false
   },
   "outputs": [
    {
     "data": {
      "text/plain": [
       "0"
      ]
     },
     "execution_count": 13,
     "metadata": {},
     "output_type": "execute_result"
    }
   ],
   "source": [
    "memo_coin(0, [1,7,10,20,23,50])"
   ]
  },
  {
   "cell_type": "code",
   "execution_count": 14,
   "metadata": {
    "collapsed": false
   },
   "outputs": [
    {
     "name": "stdout",
     "output_type": "stream",
     "text": [
      "The slowest run took 1258.28 times longer than the fastest. This could mean that an intermediate result is being cached.\n",
      "1000000 loops, best of 3: 414 ns per loop\n"
     ]
    }
   ],
   "source": [
    "timeit(memo_coin(98, [1,7,10,20,23,50]))"
   ]
  },
  {
   "cell_type": "code",
   "execution_count": 15,
   "metadata": {
    "collapsed": false
   },
   "outputs": [
    {
     "data": {
      "text/plain": [
       "6"
      ]
     },
     "execution_count": 15,
     "metadata": {},
     "output_type": "execute_result"
    }
   ],
   "source": [
    "memo_coin(6, [1,3,7,10,20,23,50])"
   ]
  },
  {
   "cell_type": "code",
   "execution_count": 16,
   "metadata": {
    "collapsed": false,
    "scrolled": true
   },
   "outputs": [
    {
     "name": "stdout",
     "output_type": "stream",
     "text": [
      "The slowest run took 5.71 times longer than the fastest. This could mean that an intermediate result is being cached.\n",
      "1000000 loops, best of 3: 415 ns per loop\n"
     ]
    }
   ],
   "source": [
    "timeit(memo_coin(63, [1,7,10,20,50]))"
   ]
  },
  {
   "cell_type": "code",
   "execution_count": 128,
   "metadata": {
    "collapsed": false
   },
   "outputs": [
    {
     "name": "stdout",
     "output_type": "stream",
     "text": [
      "The slowest run took 12.31 times longer than the fastest. This could mean that an intermediate result is being cached.\n",
      "1000000 loops, best of 3: 385 ns per loop\n"
     ]
    }
   ],
   "source": [
    "timeit(memo_coin(63, [1,5,10,21,25]))"
   ]
  },
  {
   "cell_type": "markdown",
   "metadata": {},
   "source": [
    "# Coin Problem with optimized algo but with memoization"
   ]
  },
  {
   "cell_type": "code",
   "execution_count": 17,
   "metadata": {
    "collapsed": true
   },
   "outputs": [],
   "source": [
    "def memo_coin_opt(target, coins, coinCnt = {}):\n",
    "    \n",
    "    if target == 0:\n",
    "        coinCnt[target] = 0\n",
    "        return 0\n",
    "    \n",
    "    if target in coins:\n",
    "        coinCnt[target] = 1\n",
    "        return 1\n",
    "    \n",
    "    if not target in coinCnt:\n",
    "        \n",
    "        for coin in [max([c for c in coins if c<= target])]:\n",
    "            coinCnt[target] = (target//coin) + memo_coin_opt((target%coin), coins, coinCnt)\n",
    "    \n",
    "    return coinCnt[target]\n",
    "        \n",
    "        "
   ]
  },
  {
   "cell_type": "code",
   "execution_count": 18,
   "metadata": {
    "collapsed": false,
    "scrolled": true
   },
   "outputs": [
    {
     "name": "stdout",
     "output_type": "stream",
     "text": [
      "The slowest run took 29.58 times longer than the fastest. This could mean that an intermediate result is being cached.\n",
      "1000000 loops, best of 3: 414 ns per loop\n"
     ]
    }
   ],
   "source": [
    "timeit(memo_coin_opt(98, [1,7,10,20,23,50]))"
   ]
  },
  {
   "cell_type": "code",
   "execution_count": 19,
   "metadata": {
    "collapsed": false
   },
   "outputs": [
    {
     "data": {
      "text/plain": [
       "3"
      ]
     },
     "execution_count": 19,
     "metadata": {},
     "output_type": "execute_result"
    }
   ],
   "source": [
    "memo_coin_opt(6, [1,3,4,7,10,20,23,50])"
   ]
  },
  {
   "cell_type": "code",
   "execution_count": 20,
   "metadata": {
    "collapsed": false,
    "scrolled": true
   },
   "outputs": [
    {
     "name": "stdout",
     "output_type": "stream",
     "text": [
      "The slowest run took 32.08 times longer than the fastest. This could mean that an intermediate result is being cached.\n",
      "1000000 loops, best of 3: 382 ns per loop\n"
     ]
    }
   ],
   "source": [
    "timeit(memo_coin_opt(63, [1,7,10,20,50]))"
   ]
  },
  {
   "cell_type": "code",
   "execution_count": 21,
   "metadata": {
    "collapsed": false
   },
   "outputs": [
    {
     "data": {
      "text/plain": [
       "5"
      ]
     },
     "execution_count": 21,
     "metadata": {},
     "output_type": "execute_result"
    }
   ],
   "source": [
    "memo_coin_opt(63, [1,7,10,20,50])"
   ]
  },
  {
   "cell_type": "markdown",
   "metadata": {},
   "source": [
    "# Coin Problem with memoization returns coin list"
   ]
  },
  {
   "cell_type": "code",
   "execution_count": 123,
   "metadata": {
    "collapsed": false
   },
   "outputs": [],
   "source": [
    "def memo_coin_return_list(target, coins, coinCnt={}):\n",
    "    \n",
    "    if target == 0:\n",
    "        coinCnt[target] = []\n",
    "        return coinCnt[target]\n",
    "    \n",
    "    if target in coins:\n",
    "        coinCnt[target] = [target]\n",
    "        return coinCnt[target]\n",
    "    \n",
    "    else:\n",
    "        \n",
    "        for coin in [c for c in coins if c <= target]:\n",
    "            coinSet = [coin] + memo_coin_return_list(target-coin, coins, coinCnt)\n",
    "            if target in coinCnt:\n",
    "                if (len(coinCnt[target]) > len(coinSet)):\n",
    "                    coinCnt[target] = coinSet\n",
    "            else:\n",
    "                coinCnt[target] = coinSet\n",
    "                \n",
    "    #print(target, coinCnt[target])\n",
    "    \n",
    "    return coinCnt[target]\n"
   ]
  },
  {
   "cell_type": "code",
   "execution_count": 124,
   "metadata": {
    "collapsed": false
   },
   "outputs": [
    {
     "data": {
      "text/plain": [
       "[7, 7]"
      ]
     },
     "execution_count": 124,
     "metadata": {},
     "output_type": "execute_result"
    }
   ],
   "source": [
    "memo_coin_return_list(14, [1,3,7,10,20,50])"
   ]
  },
  {
   "cell_type": "code",
   "execution_count": 130,
   "metadata": {
    "collapsed": false
   },
   "outputs": [
    {
     "name": "stdout",
     "output_type": "stream",
     "text": [
      "1 loop, best of 3: 33.8 s per loop\n"
     ]
    }
   ],
   "source": [
    "timeit(memo_coin_return_list(63, [1,5,10,21,25]))"
   ]
  },
  {
   "cell_type": "markdown",
   "metadata": {},
   "source": [
    "# Coin Problem with memoization returns coin list - Algo 2"
   ]
  },
  {
   "cell_type": "code",
   "execution_count": null,
   "metadata": {
    "collapsed": false
   },
   "outputs": [],
   "source": [
    "def memo_coin_return_list(target,coins,coinCnt={}):\n",
    "    \n",
    "    if target == 0:\n",
    "        coinCnt[target] = []\n",
    "        return coinCnt[target]\n",
    "\n",
    "    if target in coins:\n",
    "        coinCnt[target] = [target]\n",
    "        return coinCnt[target]\n",
    "\n",
    "    if not target in coinCnt:\n",
    "        for coin in [c for c in coins if c <= target]:\n",
    "            coinCnt[target] = [coin] * (target//coin) + memo_coin_return_list((target%coin), coins, coinCnt)\n",
    "    #print(target, coinCnt[target]) \n",
    "    return coinCnt[target]\n",
    "    "
   ]
  },
  {
   "cell_type": "code",
   "execution_count": 126,
   "metadata": {
    "collapsed": false
   },
   "outputs": [
    {
     "name": "stdout",
     "output_type": "stream",
     "text": [
      "100000 loops, best of 3: 8.58 µs per loop\n"
     ]
    }
   ],
   "source": [
    "timeit(memo_coin_return_list(6, [1,3,4,7,10,20,50]))"
   ]
  },
  {
   "cell_type": "code",
   "execution_count": 127,
   "metadata": {
    "collapsed": false
   },
   "outputs": [
    {
     "data": {
      "text/plain": [
       "[3, 3]"
      ]
     },
     "execution_count": 127,
     "metadata": {},
     "output_type": "execute_result"
    }
   ],
   "source": [
    "memo_coin_return_list(6, [1,3,4,7,10,20,50])"
   ]
  },
  {
   "cell_type": "code",
   "execution_count": null,
   "metadata": {
    "collapsed": true
   },
   "outputs": [],
   "source": []
  },
  {
   "cell_type": "code",
   "execution_count": null,
   "metadata": {
    "collapsed": true
   },
   "outputs": [],
   "source": []
  }
 ],
 "metadata": {
  "kernelspec": {
   "display_name": "Python 3",
   "language": "python",
   "name": "python3"
  },
  "language_info": {
   "codemirror_mode": {
    "name": "ipython",
    "version": 3
   },
   "file_extension": ".py",
   "mimetype": "text/x-python",
   "name": "python",
   "nbconvert_exporter": "python",
   "pygments_lexer": "ipython3",
   "version": "3.6.0"
  }
 },
 "nbformat": 4,
 "nbformat_minor": 2
}
