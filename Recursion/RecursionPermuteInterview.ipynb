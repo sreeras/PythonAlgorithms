{
 "cells": [
  {
   "cell_type": "code",
   "execution_count": 15,
   "metadata": {
    "collapsed": true
   },
   "outputs": [],
   "source": [
    "def permute(s):\n",
    "    \n",
    "    if len(s) <= 1:\n",
    "        return [s]\n",
    "    \n",
    "    out = []\n",
    "    for i, c in enumerate(s):\n",
    "        #print (\"i: \", i, \" | c: \", c)\n",
    "        for perm in permute(s[:i] + s[i+1:]):\n",
    "            #print (\"c: \", c, \" | perm: \", perm)\n",
    "            out += [c + perm]\n",
    "            #print (\"out: \", out)\n",
    "    \n",
    "    return out"
   ]
  },
  {
   "cell_type": "code",
   "execution_count": 14,
   "metadata": {
    "collapsed": false
   },
   "outputs": [
    {
     "data": {
      "text/plain": [
       "['hall',\n",
       " 'hall',\n",
       " 'hlal',\n",
       " 'hlla',\n",
       " 'hlal',\n",
       " 'hlla',\n",
       " 'ahll',\n",
       " 'ahll',\n",
       " 'alhl',\n",
       " 'allh',\n",
       " 'alhl',\n",
       " 'allh',\n",
       " 'lhal',\n",
       " 'lhla',\n",
       " 'lahl',\n",
       " 'lalh',\n",
       " 'llha',\n",
       " 'llah',\n",
       " 'lhal',\n",
       " 'lhla',\n",
       " 'lahl',\n",
       " 'lalh',\n",
       " 'llha',\n",
       " 'llah']"
      ]
     },
     "execution_count": 14,
     "metadata": {},
     "output_type": "execute_result"
    }
   ],
   "source": [
    "permute('hall')"
   ]
  },
  {
   "cell_type": "code",
   "execution_count": null,
   "metadata": {
    "collapsed": true
   },
   "outputs": [],
   "source": []
  },
  {
   "cell_type": "code",
   "execution_count": null,
   "metadata": {
    "collapsed": true
   },
   "outputs": [],
   "source": []
  }
 ],
 "metadata": {
  "kernelspec": {
   "display_name": "Python 3",
   "language": "python",
   "name": "python3"
  },
  "language_info": {
   "codemirror_mode": {
    "name": "ipython",
    "version": 3
   },
   "file_extension": ".py",
   "mimetype": "text/x-python",
   "name": "python",
   "nbconvert_exporter": "python",
   "pygments_lexer": "ipython3",
   "version": "3.6.0"
  }
 },
 "nbformat": 4,
 "nbformat_minor": 2
}
