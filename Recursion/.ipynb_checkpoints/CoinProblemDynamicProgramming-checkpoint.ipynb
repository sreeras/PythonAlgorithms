{
 "cells": [
  {
   "cell_type": "markdown",
   "metadata": {},
   "source": [
    "# CoinProblemDynamicProgramming"
   ]
  },
  {
   "cell_type": "code",
   "execution_count": 13,
   "metadata": {
    "collapsed": false
   },
   "outputs": [],
   "source": [
    "def _get_change_making_matrix(set_of_coins, r):\n",
    "    m = [[0 for _ in range(r + 1)] for _ in range(len(set_of_coins) + 1)]\n",
    "    for i in range(r + 1):\n",
    "        m[0][i] = i\n",
    "    return m \n",
    "\n",
    "def change_making(coins, n):\n",
    "    \"\"\"This function assumes that all coins are available infinitely.\n",
    "\n",
    "    n is the number that we need to obtain with the fewest number of coins.\n",
    "\n",
    "    coins is a list or tuple with the available denominations.\"\"\"\n",
    "\n",
    "    m = _get_change_making_matrix(coins, n)\n",
    "    \n",
    "    #print(m)\n",
    "\n",
    "    for c in range(1, len(coins) + 1):\n",
    "\n",
    "        for r in range(1, n + 1):\n",
    "\n",
    "            # Just use the coin coins[c - 1].\n",
    "            if coins[c - 1] == r:\n",
    "                m[c][r] = 1\n",
    "\n",
    "            # coins[c - 1] cannot be included.\n",
    "            # We use the previous solution for making r,\n",
    "            # excluding coins[c - 1].\n",
    "            elif coins[c - 1] > r:\n",
    "                m[c][r] = m[c - 1][r]\n",
    "\n",
    "            # We can use coins[c - 1].\n",
    "            # We need to decide which one of the following solutions is the best:\n",
    "            # 1. Using the previous solution for making r (without using coins[c - 1]).\n",
    "            # 2. Using the previous solution for making r - coins[c - 1] (without using coins[c - 1]) plus this 1 extra coin.\n",
    "            else:\n",
    "                m[c][r] = min(m[c - 1][r], 1 + m[c][r - coins[c - 1]])\n",
    "\n",
    "    return m[-1][-1]"
   ]
  },
  {
   "cell_type": "code",
   "execution_count": 14,
   "metadata": {
    "collapsed": false
   },
   "outputs": [
    {
     "name": "stdout",
     "output_type": "stream",
     "text": [
      "10000 loops, best of 3: 21.9 µs per loop\n"
     ]
    }
   ],
   "source": [
    "timeit(change_making([1,2,3,4,10], 6))"
   ]
  },
  {
   "cell_type": "code",
   "execution_count": 36,
   "metadata": {
    "collapsed": false
   },
   "outputs": [],
   "source": [
    "def dpMakeChange(coinValueList,change,minCoins,coinsUsed):\n",
    "    for cents in range(change+1):\n",
    "        coinCount = cents\n",
    "        newCoin = 1\n",
    "        for j in [c for c in coinValueList if c <= cents]:\n",
    "            if minCoins[cents-j] + 1 < coinCount:\n",
    "                coinCount = minCoins[cents-j]+1\n",
    "                newCoin = j\n",
    "            #print (\"cents: \", cents,\" | j: \", j, \" | coin count: \", coinCount, \" | newCoin: \", newCoin)\n",
    "        minCoins[cents] = coinCount\n",
    "        coinsUsed[cents] = newCoin\n",
    "    return minCoins[change]\n",
    "\n",
    "def printCoins(coinsUsed,change):\n",
    "    coin = change\n",
    "    while coin > 0:\n",
    "        thisCoin = coinsUsed[coin]\n",
    "        print(thisCoin)\n",
    "        coin = coin - thisCoin\n",
    "\n",
    "def main():\n",
    "    amnt = 63\n",
    "    clist = [1,5,10,21,25]\n",
    "    coinsUsed = [0]*(amnt+1)\n",
    "    coinCount = [0]*(amnt+1)\n",
    "\n",
    "    print(\"Making change for\",amnt,\"requires\")\n",
    "    print(dpMakeChange(clist,amnt,coinCount,coinsUsed),\"coins\")\n",
    "    print(\"They are:\")\n",
    "    printCoins(coinsUsed,amnt)\n",
    "    print(\"The used list is as follows:\")\n",
    "    print(coinsUsed)\n",
    "\n",
    "\n"
   ]
  },
  {
   "cell_type": "code",
   "execution_count": 37,
   "metadata": {
    "collapsed": false
   },
   "outputs": [],
   "source": [
    "amnt = 63\n",
    "clist = [1,5,10,21,25]\n",
    "coinsUsed = [0]*(amnt+1)\n",
    "coinCount = [0]*(amnt+1)"
   ]
  },
  {
   "cell_type": "code",
   "execution_count": 38,
   "metadata": {
    "collapsed": false
   },
   "outputs": [
    {
     "name": "stdout",
     "output_type": "stream",
     "text": [
      "10000 loops, best of 3: 76.9 µs per loop\n"
     ]
    }
   ],
   "source": [
    "timeit(dpMakeChange(clist,amnt,coinCount,coinsUsed))"
   ]
  },
  {
   "cell_type": "code",
   "execution_count": null,
   "metadata": {
    "collapsed": true
   },
   "outputs": [],
   "source": []
  }
 ],
 "metadata": {
  "kernelspec": {
   "display_name": "Python 3",
   "language": "python",
   "name": "python3"
  },
  "language_info": {
   "codemirror_mode": {
    "name": "ipython",
    "version": 3
   },
   "file_extension": ".py",
   "mimetype": "text/x-python",
   "name": "python",
   "nbconvert_exporter": "python",
   "pygments_lexer": "ipython3",
   "version": "3.6.0"
  }
 },
 "nbformat": 4,
 "nbformat_minor": 2
}
