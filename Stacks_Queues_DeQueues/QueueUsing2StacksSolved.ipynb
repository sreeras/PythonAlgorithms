{
 "cells": [
  {
   "cell_type": "markdown",
   "metadata": {},
   "source": [
    "# Queue using 2 Stacks"
   ]
  },
  {
   "cell_type": "code",
   "execution_count": 4,
   "metadata": {
    "collapsed": true
   },
   "outputs": [],
   "source": [
    "\n",
    "\n",
    "class Queue2Stacks(object):\n",
    "    \n",
    "    def __init__(self):\n",
    "        \n",
    "        self.stack1 = []\n",
    "        self.stack2 = []\n",
    "    \n",
    "    def enqueue(self, ele):\n",
    "        \n",
    "        self.stack1.append(ele)\n",
    "    \n",
    "    def dequeue(self):\n",
    "        \n",
    "        while self.stack1:\n",
    "            self.stack2.append(self.stack1.pop())\n",
    "        if len(self.stack2) > 0:\n",
    "            return self.stack2.pop()\n",
    "    \n",
    "\n",
    "            "
   ]
  },
  {
   "cell_type": "code",
   "execution_count": 5,
   "metadata": {
    "collapsed": false
   },
   "outputs": [
    {
     "name": "stdout",
     "output_type": "stream",
     "text": [
      "1\n",
      "dfdf\n",
      "['s', 2]\n"
     ]
    }
   ],
   "source": [
    "q = Queue2Stacks()\n",
    "q.enqueue(1)\n",
    "q.enqueue(\"dfdf\")\n",
    "q.enqueue(['s',2])\n",
    "print (q.dequeue())\n",
    "print (q.dequeue())\n",
    "print (q.dequeue())\n",
    "\n"
   ]
  },
  {
   "cell_type": "code",
   "execution_count": null,
   "metadata": {
    "collapsed": true
   },
   "outputs": [],
   "source": []
  }
 ],
 "metadata": {
  "kernelspec": {
   "display_name": "Python 3",
   "language": "python",
   "name": "python3"
  },
  "language_info": {
   "codemirror_mode": {
    "name": "ipython",
    "version": 3
   },
   "file_extension": ".py",
   "mimetype": "text/x-python",
   "name": "python",
   "nbconvert_exporter": "python",
   "pygments_lexer": "ipython3",
   "version": "3.6.0"
  }
 },
 "nbformat": 4,
 "nbformat_minor": 2
}
