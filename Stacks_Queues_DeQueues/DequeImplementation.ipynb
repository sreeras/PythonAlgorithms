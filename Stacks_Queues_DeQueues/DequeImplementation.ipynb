{
 "cells": [
  {
   "cell_type": "markdown",
   "metadata": {},
   "source": [
    "# dequeue Implementation"
   ]
  },
  {
   "cell_type": "code",
   "execution_count": 11,
   "metadata": {
    "collapsed": true
   },
   "outputs": [],
   "source": [
    "class Deque(object):\n",
    "    \n",
    "    def __init__(self):\n",
    "        \n",
    "        self.items = []\n",
    "    \n",
    "    def size(self):\n",
    "        \n",
    "        return len(self.items)\n",
    "    \n",
    "    def isEmpty(self):\n",
    "        \n",
    "        return self.items == []\n",
    "    \n",
    "    def addFront(self, item):\n",
    "        \n",
    "        self.items.insert(0, item)\n",
    "        \n",
    "    def addEnd(self, item):\n",
    "        \n",
    "        self.items.append(item)\n",
    "\n",
    "    def removeFront(self):\n",
    "        \n",
    "        if not self.isEmpty():\n",
    "            k = self.items[0]\n",
    "            del self.items[0]\n",
    "            return k\n",
    "    \n",
    "    def removeEnd(self):\n",
    "        \n",
    "        if not self.isEmpty():\n",
    "            return self.items.pop()\n",
    "\n"
   ]
  },
  {
   "cell_type": "code",
   "execution_count": 12,
   "metadata": {
    "collapsed": false
   },
   "outputs": [
    {
     "name": "stdout",
     "output_type": "stream",
     "text": [
      "True\n",
      "0\n",
      "None\n",
      "None\n",
      "None\n",
      "None\n",
      "False\n",
      "2\n",
      "1\n",
      "a\n",
      "None\n",
      "True\n",
      "0\n"
     ]
    }
   ],
   "source": [
    "deq = Deque()\n",
    "print(deq.isEmpty())\n",
    "print(deq.size())\n",
    "print(deq.removeFront())\n",
    "print(deq.removeEnd())\n",
    "print(deq.addFront('1'))\n",
    "print(deq.addEnd('a'))\n",
    "print(deq.isEmpty())\n",
    "print(deq.size())\n",
    "print(deq.removeFront())\n",
    "print(deq.removeFront())\n",
    "print(deq.removeFront())\n",
    "print(deq.isEmpty())\n",
    "print(deq.size())"
   ]
  },
  {
   "cell_type": "code",
   "execution_count": null,
   "metadata": {
    "collapsed": true
   },
   "outputs": [],
   "source": []
  }
 ],
 "metadata": {
  "kernelspec": {
   "display_name": "Python 3",
   "language": "python",
   "name": "python3"
  },
  "language_info": {
   "codemirror_mode": {
    "name": "ipython",
    "version": 3
   },
   "file_extension": ".py",
   "mimetype": "text/x-python",
   "name": "python",
   "nbconvert_exporter": "python",
   "pygments_lexer": "ipython3",
   "version": "3.6.0"
  }
 },
 "nbformat": 4,
 "nbformat_minor": 2
}
