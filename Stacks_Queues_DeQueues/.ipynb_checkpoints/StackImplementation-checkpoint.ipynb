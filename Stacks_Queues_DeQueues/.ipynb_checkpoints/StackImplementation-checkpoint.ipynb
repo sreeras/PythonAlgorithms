{
 "cells": [
  {
   "cell_type": "markdown",
   "metadata": {},
   "source": [
    "# Stack Implementation"
   ]
  },
  {
   "cell_type": "code",
   "execution_count": 24,
   "metadata": {
    "collapsed": true
   },
   "outputs": [],
   "source": [
    "class Stack(object):\n",
    "    \n",
    "    def __init__(self):\n",
    "        \n",
    "        self.stack = []\n",
    "        self.top = -1\n",
    "    \n",
    "    def push(self, k):\n",
    "        self.stack.append(k)\n",
    "        self.top += 1\n",
    "        return None\n",
    "        \n",
    "    def pop(self):\n",
    "        if self.isEmpty() == False:\n",
    "            k = self.stack.pop()\n",
    "            self.top -= 1\n",
    "            return k\n",
    "        else:\n",
    "            return None\n",
    "    \n",
    "    def peek(self):\n",
    "        if self.isEmpty() == False:\n",
    "            return self.stack[self.top]\n",
    "        else:\n",
    "            return None\n",
    "\n",
    "    def size(self):\n",
    "        if self.isEmpty() == False:\n",
    "            return self.top + 1\n",
    "        else:\n",
    "            return 0\n",
    "    \n",
    "    def isEmpty(self):\n",
    "        return self.top == -1\n",
    "    \n",
    "        "
   ]
  },
  {
   "cell_type": "code",
   "execution_count": 25,
   "metadata": {
    "collapsed": false
   },
   "outputs": [
    {
     "name": "stdout",
     "output_type": "stream",
     "text": [
      "True\n",
      "0\n",
      "None\n",
      "5\n",
      "5\n",
      "False\n",
      "5\n",
      "4\n",
      "3\n",
      "2\n",
      "1\n",
      "0\n",
      "None\n",
      "True\n"
     ]
    }
   ],
   "source": [
    "s = Stack()\n",
    "print (s.isEmpty())\n",
    "print (s.size())\n",
    "print (s.peek())\n",
    "s.push(1)\n",
    "s.push(2)\n",
    "s.push(3)\n",
    "s.push(4)\n",
    "s.push(5)\n",
    "print (s.size())\n",
    "print (s.peek())\n",
    "print (s.isEmpty())\n",
    "print (s.pop())\n",
    "print (s.pop())\n",
    "print (s.pop())\n",
    "print (s.pop())\n",
    "print (s.pop())\n",
    "print (s.size())\n",
    "print (s.peek())\n",
    "print (s.isEmpty())\n"
   ]
  },
  {
   "cell_type": "code",
   "execution_count": null,
   "metadata": {
    "collapsed": true
   },
   "outputs": [],
   "source": []
  }
 ],
 "metadata": {
  "kernelspec": {
   "display_name": "Python 3",
   "language": "python",
   "name": "python3"
  },
  "language_info": {
   "codemirror_mode": {
    "name": "ipython",
    "version": 3
   },
   "file_extension": ".py",
   "mimetype": "text/x-python",
   "name": "python",
   "nbconvert_exporter": "python",
   "pygments_lexer": "ipython3",
   "version": "3.6.0"
  }
 },
 "nbformat": 4,
 "nbformat_minor": 2
}
