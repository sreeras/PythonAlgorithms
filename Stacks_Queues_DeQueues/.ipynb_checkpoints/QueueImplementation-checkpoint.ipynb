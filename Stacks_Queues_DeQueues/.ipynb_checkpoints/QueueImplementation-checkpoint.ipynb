{
 "cells": [
  {
   "cell_type": "markdown",
   "metadata": {},
   "source": [
    "# Queue implementation"
   ]
  },
  {
   "cell_type": "code",
   "execution_count": 2,
   "metadata": {
    "collapsed": false
   },
   "outputs": [],
   "source": [
    "class Queue(object):\n",
    "    \n",
    "    def __init__(self):\n",
    "        \n",
    "        self.items = []\n",
    "        \n",
    "    def size(self):\n",
    "        return len(self.items)\n",
    "        \n",
    "    def enqueue(self, k):\n",
    "        self.items.append(k)\n",
    "    \n",
    "    def dequeue(self):\n",
    "        if self.size() > 0:\n",
    "            k = self.items[0]\n",
    "            del self.items[0]\n",
    "            return k\n",
    "    \n",
    "    def isEmpty(self):\n",
    "        return self.size() == 0\n"
   ]
  },
  {
   "cell_type": "code",
   "execution_count": 4,
   "metadata": {
    "collapsed": false
   },
   "outputs": [
    {
     "name": "stdout",
     "output_type": "stream",
     "text": [
      "None\n",
      "True\n",
      "0\n",
      "None\n",
      "None\n",
      "None\n",
      "None\n",
      "False\n",
      "4\n",
      "2\n",
      "2\n",
      "2\n",
      "2\n",
      "True\n",
      "0\n"
     ]
    }
   ],
   "source": [
    "q = Queue()\n",
    "\n",
    "print (q.dequeue())\n",
    "print (q.isEmpty())\n",
    "print (q.size())\n",
    "print (q.enqueue(2))\n",
    "print (q.enqueue(2))\n",
    "print (q.enqueue(2))\n",
    "print (q.enqueue(2))\n",
    "print (q.isEmpty())\n",
    "print (q.size())\n",
    "print (q.dequeue())\n",
    "print (q.dequeue())\n",
    "print (q.dequeue())\n",
    "print (q.dequeue())\n",
    "print (q.isEmpty())\n",
    "print (q.size())\n"
   ]
  },
  {
   "cell_type": "code",
   "execution_count": null,
   "metadata": {
    "collapsed": true
   },
   "outputs": [],
   "source": []
  }
 ],
 "metadata": {
  "kernelspec": {
   "display_name": "Python 3",
   "language": "python",
   "name": "python3"
  },
  "language_info": {
   "codemirror_mode": {
    "name": "ipython",
    "version": 3
   },
   "file_extension": ".py",
   "mimetype": "text/x-python",
   "name": "python",
   "nbconvert_exporter": "python",
   "pygments_lexer": "ipython3",
   "version": "3.6.0"
  }
 },
 "nbformat": 4,
 "nbformat_minor": 2
}
