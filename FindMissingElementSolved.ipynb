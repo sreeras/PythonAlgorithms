{
 "cells": [
  {
   "cell_type": "code",
   "execution_count": 5,
   "metadata": {
    "collapsed": false
   },
   "outputs": [
    {
     "data": {
      "text/plain": [
       "5"
      ]
     },
     "execution_count": 5,
     "metadata": {},
     "output_type": "execute_result"
    }
   ],
   "source": [
    "def finder(arr1, arr2):\n",
    "    #return \"{0} is the missing number.\".format(sum(arr1)-sum(arr2))\n",
    "    return sum(arr1)-sum(arr2)\n",
    "\n",
    "\n",
    "finder([1,2,3,4,5,6,7],[3,7,2,1,4,6])"
   ]
  },
  {
   "cell_type": "code",
   "execution_count": 17,
   "metadata": {
    "collapsed": false
   },
   "outputs": [
    {
     "name": "stdout",
     "output_type": "stream",
     "text": [
      "All test cases passed.\n",
      "All test cases passed.\n"
     ]
    }
   ],
   "source": [
    "from nose.tools import assert_equal\n",
    "\n",
    "class TestFinder(object):\n",
    "\n",
    "    def testfinder(self, sol):\n",
    "        assert_equal(sol([1,2,3,4,5,6,7],[3,7,2,1,4,6]), 5)\n",
    "        assert_equal(sol([1],[]), 1)\n",
    "        assert_equal(sol([1,2,3],[3,2]), 1)\n",
    "        assert_equal(sol([1,2,3],[1,2]), 3)\n",
    "        print(\"All test cases passed.\")\n",
    "\n",
    "t = TestFinder()\n",
    "t.testfinder(finder)\n",
    "t.testfinder(finder2)"
   ]
  },
  {
   "cell_type": "code",
   "execution_count": 14,
   "metadata": {
    "collapsed": false
   },
   "outputs": [
    {
     "data": {
      "text/plain": [
       "5"
      ]
     },
     "execution_count": 14,
     "metadata": {},
     "output_type": "execute_result"
    }
   ],
   "source": [
    "from collections import defaultdict\n",
    "\n",
    "def finder2(arr1, arr2):\n",
    "\n",
    "    d = defaultdict(int)\n",
    "    #print (d)\n",
    "\n",
    "    for num in arr2:\n",
    "        d[num] += 1\n",
    "    \n",
    "    for num in arr1:\n",
    "        if d[num] == 0:\n",
    "            return num\n",
    "        \n",
    "        else:\n",
    "            d[num] -= 1\n",
    "\n",
    "finder2([1,2,3,4,5,6,7],[3,7,2,1,4,6])"
   ]
  },
  {
   "cell_type": "code",
   "execution_count": null,
   "metadata": {
    "collapsed": true
   },
   "outputs": [],
   "source": []
  }
 ],
 "metadata": {
  "kernelspec": {
   "display_name": "Python 3",
   "language": "python",
   "name": "python3"
  },
  "language_info": {
   "codemirror_mode": {
    "name": "ipython",
    "version": 3
   },
   "file_extension": ".py",
   "mimetype": "text/x-python",
   "name": "python",
   "nbconvert_exporter": "python",
   "pygments_lexer": "ipython3",
   "version": "3.6.0"
  }
 },
 "nbformat": 4,
 "nbformat_minor": 2
}
