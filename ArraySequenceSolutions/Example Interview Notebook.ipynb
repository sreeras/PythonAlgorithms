{
 "cells": [
  {
   "cell_type": "markdown",
   "metadata": {},
   "source": [
    "# Add two numbers\n",
    "\n",
    "## Problem\n",
    "\n",
    "Add two number"
   ]
  },
  {
   "cell_type": "code",
   "execution_count": 19,
   "metadata": {
    "collapsed": true
   },
   "outputs": [],
   "source": [
    "def solution(num1, num2):\n",
    "    return num1 + num2"
   ]
  },
  {
   "cell_type": "code",
   "execution_count": 20,
   "metadata": {
    "collapsed": false
   },
   "outputs": [
    {
     "name": "stdout",
     "output_type": "stream",
     "text": [
      "All test cases passed\n"
     ]
    }
   ],
   "source": [
    "from nose.tools import assert_equal\n",
    "\n",
    "class SolutionTest(object):\n",
    "    \n",
    "    def test(self, sol):\n",
    "        assert_equal(sol(2,2), 4)\n",
    "        assert_equal(sol(0,2), 2)\n",
    "    \n",
    "        print (\"All test cases passed\")\n",
    "\n",
    "t = SolutionTest()\n",
    "t.test(solution)\n"
   ]
  },
  {
   "cell_type": "markdown",
   "metadata": {
    "collapsed": true
   },
   "source": [
    "# Dynamic Arrays"
   ]
  },
  {
   "cell_type": "code",
   "execution_count": 4,
   "metadata": {
    "collapsed": false
   },
   "outputs": [
    {
     "name": "stdout",
     "output_type": "stream",
     "text": [
      "Length of data   0 - Size of data  64\n",
      "Length of data   1 - Size of data  96\n",
      "Length of data   2 - Size of data  96\n",
      "Length of data   3 - Size of data  96\n",
      "Length of data   4 - Size of data  96\n",
      "Length of data   5 - Size of data 128\n",
      "Length of data   6 - Size of data 128\n",
      "Length of data   7 - Size of data 128\n",
      "Length of data   8 - Size of data 128\n",
      "Length of data   9 - Size of data 192\n",
      "Length of data  10 - Size of data 192\n",
      "Length of data  11 - Size of data 192\n",
      "Length of data  12 - Size of data 192\n",
      "Length of data  13 - Size of data 192\n",
      "Length of data  14 - Size of data 192\n",
      "Length of data  15 - Size of data 192\n",
      "Length of data  16 - Size of data 192\n",
      "Length of data  17 - Size of data 264\n",
      "Length of data  18 - Size of data 264\n",
      "Length of data  19 - Size of data 264\n",
      "Length of data  20 - Size of data 264\n",
      "Length of data  21 - Size of data 264\n",
      "Length of data  22 - Size of data 264\n",
      "Length of data  23 - Size of data 264\n",
      "Length of data  24 - Size of data 264\n",
      "Length of data  25 - Size of data 264\n",
      "Length of data  26 - Size of data 344\n",
      "Length of data  27 - Size of data 344\n",
      "Length of data  28 - Size of data 344\n",
      "Length of data  29 - Size of data 344\n",
      "Length of data  30 - Size of data 344\n",
      "Length of data  31 - Size of data 344\n",
      "Length of data  32 - Size of data 344\n",
      "Length of data  33 - Size of data 344\n",
      "Length of data  34 - Size of data 344\n",
      "Length of data  35 - Size of data 344\n",
      "Length of data  36 - Size of data 432\n",
      "Length of data  37 - Size of data 432\n",
      "Length of data  38 - Size of data 432\n",
      "Length of data  39 - Size of data 432\n",
      "Length of data  40 - Size of data 432\n",
      "Length of data  41 - Size of data 432\n",
      "Length of data  42 - Size of data 432\n",
      "Length of data  43 - Size of data 432\n",
      "Length of data  44 - Size of data 432\n",
      "Length of data  45 - Size of data 432\n",
      "Length of data  46 - Size of data 432\n",
      "Length of data  47 - Size of data 528\n",
      "Length of data  48 - Size of data 528\n",
      "Length of data  49 - Size of data 528\n"
     ]
    }
   ],
   "source": [
    "import sys\n",
    "\n",
    "n = 50\n",
    "\n",
    "data = []\n",
    "\n",
    "for i in range(n):\n",
    "    a = len(data)\n",
    "    b = sys.getsizeof(data)\n",
    "    print (\"Length of data {0:3d} - Size of data {1:3d}\".format(a,b))\n",
    "    data.append(i)\n"
   ]
  }
 ],
 "metadata": {
  "kernelspec": {
   "display_name": "Python 3",
   "language": "python",
   "name": "python3"
  },
  "language_info": {
   "codemirror_mode": {
    "name": "ipython",
    "version": 3
   },
   "file_extension": ".py",
   "mimetype": "text/x-python",
   "name": "python",
   "nbconvert_exporter": "python",
   "pygments_lexer": "ipython3",
   "version": "3.6.0"
  }
 },
 "nbformat": 4,
 "nbformat_minor": 2
}
