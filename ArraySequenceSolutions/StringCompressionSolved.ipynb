{
 "cells": [
  {
   "cell_type": "markdown",
   "metadata": {},
   "source": [
    "# Array Compression"
   ]
  },
  {
   "cell_type": "code",
   "execution_count": 38,
   "metadata": {
    "collapsed": false
   },
   "outputs": [],
   "source": [
    "#String Compression\n",
    "# AAAABBCCCCCaBB\n",
    "\n",
    "#A4B2C5a1B2\n",
    "\n",
    "def compress(s):\n",
    "\n",
    "    length =  len(s)\n",
    "    if not s:\n",
    "        return \"\"\n",
    "    if length == 1:\n",
    "        return s[0] + \"1\"\n",
    "        \n",
    "    compressed = \"\"\n",
    "    count = 1\n",
    "    i = 1\n",
    "    j = 0\n",
    "    compressed = s[0]\n",
    "\n",
    "    while i in range(1, length):\n",
    "\n",
    "        if s[i] != compressed[j]:\n",
    "            \n",
    "            compressed += str(count)\n",
    "            compressed += s[i]\n",
    "            j+=2\n",
    "            count = 1\n",
    "        else:\n",
    "            count += 1\n",
    "        i += 1\n",
    "        #print (compressed, s[i], count)\n",
    "        \n",
    "        if(i == length):\n",
    "            compressed += str(count)\n",
    "    return compressed\n",
    "      \n",
    "\n"
   ]
  },
  {
   "cell_type": "code",
   "execution_count": 39,
   "metadata": {
    "collapsed": false
   },
   "outputs": [
    {
     "data": {
      "text/plain": [
       "'A4B2C5a1B2'"
      ]
     },
     "execution_count": 39,
     "metadata": {},
     "output_type": "execute_result"
    }
   ],
   "source": [
    "compress(\"AAAABBCCCCCaBB\")"
   ]
  },
  {
   "cell_type": "code",
   "execution_count": 42,
   "metadata": {
    "collapsed": false
   },
   "outputs": [
    {
     "name": "stdout",
     "output_type": "stream",
     "text": [
      "ALL TEST CASES PASSED\n"
     ]
    }
   ],
   "source": [
    "\"\"\"\n",
    "RUN THIS CELL TO TEST YOUR SOLUTION\n",
    "\"\"\"\n",
    "from nose.tools import assert_equal\n",
    "\n",
    "class TestCompress(object):\n",
    "\n",
    "    def test(self, sol):\n",
    "        assert_equal(sol(''), '')\n",
    "        assert_equal(sol('AABBCC'), 'A2B2C2')\n",
    "        assert_equal(sol('AAABCCDDDDD'), 'A3B1C2D5')\n",
    "        print ('ALL TEST CASES PASSED')\n",
    "\n",
    "# Run Tests\n",
    "t = TestCompress()\n",
    "t.test(compress)"
   ]
  },
  {
   "cell_type": "code",
   "execution_count": null,
   "metadata": {
    "collapsed": true
   },
   "outputs": [],
   "source": []
  }
 ],
 "metadata": {
  "kernelspec": {
   "display_name": "Python 3",
   "language": "python",
   "name": "python3"
  },
  "language_info": {
   "codemirror_mode": {
    "name": "ipython",
    "version": 3
   },
   "file_extension": ".py",
   "mimetype": "text/x-python",
   "name": "python",
   "nbconvert_exporter": "python",
   "pygments_lexer": "ipython3",
   "version": "3.6.0"
  }
 },
 "nbformat": 4,
 "nbformat_minor": 2
}
