{
 "cells": [
  {
   "cell_type": "markdown",
   "metadata": {},
   "source": [
    "# LevelOrderPrint"
   ]
  },
  {
   "cell_type": "code",
   "execution_count": 115,
   "metadata": {
    "collapsed": false
   },
   "outputs": [],
   "source": [
    "import collections\n",
    "\n",
    "class Node(object):\n",
    "    def __init__(self,value):\n",
    "        self.val = value\n",
    "        self.left = None\n",
    "        self.right = None\n",
    "\n",
    "def levelOrderPrint(tree, right=None):\n",
    "    \n",
    "    if not tree:\n",
    "        return\n",
    "    \n",
    "    nodes = collections.deque([tree])\n",
    "    currNode = 1\n",
    "    nextNode = 0\n",
    "    \n",
    "    while len(nodes) != 0:\n",
    "        \n",
    "        node = nodes.popleft()\n",
    "        currNode -= 1\n",
    "        \n",
    "        print (\"{0:<4d}\".format(node.val), end='')\n",
    "        \n",
    "        if node.left:\n",
    "            \n",
    "            nodes.append(node.left)\n",
    "            nextNode += 1\n",
    "        \n",
    "        if node.right:\n",
    "            \n",
    "            nodes.append(node.right)\n",
    "            nextNode += 1\n",
    "        \n",
    "        if currNode == 0:\n",
    "            \n",
    "            currNode, nextNode = nextNode, currNode\n",
    "            print (\"\\n\")\n",
    "    \n",
    "\n",
    "    "
   ]
  },
  {
   "cell_type": "code",
   "execution_count": 116,
   "metadata": {
    "collapsed": true
   },
   "outputs": [],
   "source": [
    "a = Node(10)\n",
    "b = Node(5)\n",
    "c = Node(13)\n",
    "d = Node(3)\n",
    "e = Node(6)\n",
    "f = Node(12)\n",
    "g = Node(15)\n",
    "\n",
    "a.left = b\n",
    "a.right = c\n",
    "b.left = d\n",
    "b.right = e\n",
    "c.left = f\n",
    "c.right = g\n",
    "\n"
   ]
  },
  {
   "cell_type": "code",
   "execution_count": 117,
   "metadata": {
    "collapsed": false
   },
   "outputs": [
    {
     "name": "stdout",
     "output_type": "stream",
     "text": [
      "10  \n",
      "\n",
      "5   13  \n",
      "\n",
      "3   6   12  15  \n",
      "\n"
     ]
    }
   ],
   "source": [
    "levelOrderPrint(a)"
   ]
  },
  {
   "cell_type": "code",
   "execution_count": null,
   "metadata": {
    "collapsed": true
   },
   "outputs": [],
   "source": []
  },
  {
   "cell_type": "code",
   "execution_count": null,
   "metadata": {
    "collapsed": true
   },
   "outputs": [],
   "source": []
  }
 ],
 "metadata": {
  "kernelspec": {
   "display_name": "Python 3",
   "language": "python",
   "name": "python3"
  },
  "language_info": {
   "codemirror_mode": {
    "name": "ipython",
    "version": 3
   },
   "file_extension": ".py",
   "mimetype": "text/x-python",
   "name": "python",
   "nbconvert_exporter": "python",
   "pygments_lexer": "ipython3",
   "version": "3.6.0"
  }
 },
 "nbformat": 4,
 "nbformat_minor": 2
}
