{
 "cells": [
  {
   "cell_type": "markdown",
   "metadata": {},
   "source": [
    "# Binary Tree Check"
   ]
  },
  {
   "cell_type": "code",
   "execution_count": 13,
   "metadata": {
    "collapsed": true
   },
   "outputs": [],
   "source": [
    "class Tree(object):\n",
    "    def __init__(self,value):\n",
    "        self.val = value\n",
    "        self.leftChild = None\n",
    "        self.rightChild = None\n",
    "\n",
    "def validateBST(tree):\n",
    "    \n",
    "    if not tree or not (tree.leftChild and tree.rightChild):\n",
    "        return True\n",
    "    \n",
    "    if tree.rightChild:\n",
    "        if tree.rightChild.val < tree.val:\n",
    "            return False\n",
    "        if tree.rightChild.leftChild:\n",
    "            if tree.rightChild.leftChild.val < tree.val:\n",
    "                return False\n",
    "    \n",
    "    if tree.leftChild:\n",
    "        if tree.leftChild.val > tree.val:\n",
    "            return False\n",
    "        if tree.leftChild.rightChild:\n",
    "            if tree.leftChild.rightChild.val > tree.val:\n",
    "                return False\n",
    "    \n",
    "    if tree:\n",
    "        validateBST(tree.leftChild)\n",
    "        validateBST(tree.rightChild)\n",
    "    \n",
    "    return True\n",
    "            "
   ]
  },
  {
   "cell_type": "code",
   "execution_count": 31,
   "metadata": {
    "collapsed": false
   },
   "outputs": [],
   "source": [
    "a = Tree(10)\n",
    "b = Tree(5)\n",
    "c = Tree(13)\n",
    "d = Tree(3)\n",
    "e = Tree(6)\n",
    "f = Tree(12)\n",
    "g = Tree(15)\n"
   ]
  },
  {
   "cell_type": "code",
   "execution_count": 32,
   "metadata": {
    "collapsed": true
   },
   "outputs": [],
   "source": [
    "a.leftChild = b\n",
    "a.rightChild = c\n",
    "b.leftChild = d\n",
    "b.rightChild = e\n",
    "c.leftChild = f\n",
    "c.rightChild = g\n",
    "\n"
   ]
  },
  {
   "cell_type": "code",
   "execution_count": 33,
   "metadata": {
    "collapsed": false
   },
   "outputs": [
    {
     "name": "stdout",
     "output_type": "stream",
     "text": [
      "True\n"
     ]
    }
   ],
   "source": [
    "print(validateBST(a))"
   ]
  },
  {
   "cell_type": "code",
   "execution_count": 34,
   "metadata": {
    "collapsed": false
   },
   "outputs": [
    {
     "name": "stdout",
     "output_type": "stream",
     "text": [
      "True\n"
     ]
    }
   ],
   "source": [
    "x= Tree(10)\n",
    "print(validateBST(x))"
   ]
  },
  {
   "cell_type": "code",
   "execution_count": 35,
   "metadata": {
    "collapsed": true
   },
   "outputs": [],
   "source": [
    "a = Tree(10)\n",
    "b = Tree(5)\n",
    "c = Tree(13)\n",
    "d = Tree(3)\n",
    "e = Tree(6)\n",
    "f = Tree(7)\n",
    "g = Tree(15)\n",
    "\n",
    "a.leftChild = b\n",
    "a.rightChild = c\n",
    "b.leftChild = d\n",
    "b.rightChild = e\n",
    "c.leftChild = f\n",
    "c.rightChild = g\n",
    "\n"
   ]
  },
  {
   "cell_type": "code",
   "execution_count": 36,
   "metadata": {
    "collapsed": false
   },
   "outputs": [
    {
     "name": "stdout",
     "output_type": "stream",
     "text": [
      "False\n"
     ]
    }
   ],
   "source": [
    "print(validateBST(a))"
   ]
  },
  {
   "cell_type": "code",
   "execution_count": 37,
   "metadata": {
    "collapsed": true
   },
   "outputs": [],
   "source": [
    "a = Tree(10)\n",
    "b = Tree(5)\n",
    "c = Tree(13)\n",
    "d = Tree(3)\n",
    "e = Tree(11)\n",
    "f = Tree(7)\n",
    "g = Tree(15)\n",
    "\n",
    "a.leftChild = b\n",
    "a.rightChild = c\n",
    "b.leftChild = d\n",
    "b.rightChild = e\n",
    "c.leftChild = f\n",
    "c.rightChild = g\n",
    "\n"
   ]
  },
  {
   "cell_type": "code",
   "execution_count": 38,
   "metadata": {
    "collapsed": false
   },
   "outputs": [
    {
     "name": "stdout",
     "output_type": "stream",
     "text": [
      "False\n"
     ]
    }
   ],
   "source": [
    "print(validateBST(a))"
   ]
  }
 ],
 "metadata": {
  "kernelspec": {
   "display_name": "Python 3",
   "language": "python",
   "name": "python3"
  },
  "language_info": {
   "codemirror_mode": {
    "name": "ipython",
    "version": 3
   },
   "file_extension": ".py",
   "mimetype": "text/x-python",
   "name": "python",
   "nbconvert_exporter": "python",
   "pygments_lexer": "ipython3",
   "version": "3.6.0"
  }
 },
 "nbformat": 4,
 "nbformat_minor": 2
}
