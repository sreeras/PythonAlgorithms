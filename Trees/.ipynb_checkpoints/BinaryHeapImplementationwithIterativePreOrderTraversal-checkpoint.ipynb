{
 "cells": [
  {
   "cell_type": "markdown",
   "metadata": {},
   "source": [
    "# Binary Heap"
   ]
  },
  {
   "cell_type": "code",
   "execution_count": 132,
   "metadata": {
    "collapsed": false
   },
   "outputs": [],
   "source": [
    "class BinaryHeap(object):\n",
    "    \n",
    "    def __init__(self):\n",
    "        self.heapList =  [0]\n",
    "        self.currentsize = 0\n",
    "    \n",
    "    def __repr__(self):\n",
    "        return \"BinaryHeap()\"\n",
    "\n",
    "    def percUp(self, i):\n",
    "        \n",
    "        while i // 2 > 0:\n",
    "            #print (\"In percUp: i: \", i)\n",
    "            #print (\"In percUp: self.heapList[i]: \", self.heapList[i], \" self.heapList[i//2]: \", self.heapList[i//2])\n",
    "            if self.heapList[i] < self.heapList[i//2]:\n",
    "                #print (\"In percUp: self.heapList[i]: \", self.heapList[i], \" self.heapList[i//2]: \", self.heapList[i//2])\n",
    "                temp = self.heapList[i]\n",
    "                self.heapList[i] = self.heapList[i//2]\n",
    "                self.heapList[i//2] = temp\n",
    "            i = i // 2\n",
    "\n",
    "    def insert(self, k):\n",
    "        \n",
    "        #print (\"Before Insert: Current Size: \", self.currentsize)\n",
    "        self.heapList.append(k)\n",
    "        self.currentsize += 1\n",
    "        #print (\"After: Current Size: \", self.currentsize)\n",
    "        self.percUp(self.currentsize)\n",
    "        \n",
    "    def findMin(self, i):\n",
    "        \n",
    "        if i * 2 + 1 > self.currentsize:\n",
    "            \n",
    "            return i * 2\n",
    "        else:\n",
    "            \n",
    "            if self.heapList[i * 2] < self.heapList[i * 2 + 1]:\n",
    "                return i * 2\n",
    "            \n",
    "            else:\n",
    "                return i * 2 + 1\n",
    "    \n",
    "    def delMin(self):\n",
    "        \n",
    "        retval = self.heapList[1]\n",
    "        self.heapList[1] = self.heapList.pop()\n",
    "        self.currentsize -= 1\n",
    "        self.percDown(1)\n",
    "        return retval\n",
    "    \n",
    "    def percDown(self, i):\n",
    "        \n",
    "        while ((i * 2) <= self.currentsize):\n",
    "            \n",
    "            mc = self.findMin(i)\n",
    "            if self.heapList[mc] < self.heapList[i]:\n",
    "                temp = self.heapList[i]\n",
    "                self.heapList[i] = self.heapList[mc]\n",
    "                self.heapList[mc] = temp\n",
    "            i = mc\n",
    "\n",
    "    def buildList(self, alist):\n",
    "        i = len(alist) // 2\n",
    "        self.heapList = [0] + alist[:]\n",
    "        self.currentsize = len(alist)\n",
    "        while i > 0:\n",
    "            self.percDown(i)\n",
    "            i = i - 1\n",
    "\n"
   ]
  },
  {
   "cell_type": "code",
   "execution_count": 133,
   "metadata": {
    "collapsed": true
   },
   "outputs": [],
   "source": [
    "bh = BinaryHeap()"
   ]
  },
  {
   "cell_type": "code",
   "execution_count": 134,
   "metadata": {
    "collapsed": false
   },
   "outputs": [
    {
     "data": {
      "text/plain": [
       "BinaryHeap()"
      ]
     },
     "execution_count": 134,
     "metadata": {},
     "output_type": "execute_result"
    }
   ],
   "source": [
    "bh"
   ]
  },
  {
   "cell_type": "code",
   "execution_count": 135,
   "metadata": {
    "collapsed": false
   },
   "outputs": [],
   "source": [
    "bh.buildList([9,6,5,2,3])"
   ]
  },
  {
   "cell_type": "code",
   "execution_count": 136,
   "metadata": {
    "collapsed": false
   },
   "outputs": [
    {
     "name": "stdout",
     "output_type": "stream",
     "text": [
      "[0, 2, 3, 5, 6, 9]\n"
     ]
    }
   ],
   "source": [
    "print (bh.heapList)"
   ]
  },
  {
   "cell_type": "code",
   "execution_count": 137,
   "metadata": {
    "collapsed": false
   },
   "outputs": [],
   "source": [
    "bh.insert(1)"
   ]
  },
  {
   "cell_type": "code",
   "execution_count": 138,
   "metadata": {
    "collapsed": false
   },
   "outputs": [
    {
     "name": "stdout",
     "output_type": "stream",
     "text": [
      "[0, 1, 3, 2, 6, 9, 5]\n"
     ]
    }
   ],
   "source": [
    "print (bh.heapList)"
   ]
  },
  {
   "cell_type": "code",
   "execution_count": 139,
   "metadata": {
    "collapsed": false
   },
   "outputs": [],
   "source": [
    "bh.insert(11)"
   ]
  },
  {
   "cell_type": "code",
   "execution_count": 140,
   "metadata": {
    "collapsed": false
   },
   "outputs": [
    {
     "name": "stdout",
     "output_type": "stream",
     "text": [
      "[0, 1, 3, 2, 6, 9, 5, 11]\n"
     ]
    }
   ],
   "source": [
    "print (bh.heapList)"
   ]
  },
  {
   "cell_type": "code",
   "execution_count": 141,
   "metadata": {
    "collapsed": false
   },
   "outputs": [
    {
     "data": {
      "text/plain": [
       "1"
      ]
     },
     "execution_count": 141,
     "metadata": {},
     "output_type": "execute_result"
    }
   ],
   "source": [
    "bh.delMin()"
   ]
  },
  {
   "cell_type": "code",
   "execution_count": 142,
   "metadata": {
    "collapsed": false
   },
   "outputs": [
    {
     "name": "stdout",
     "output_type": "stream",
     "text": [
      "[0, 2, 3, 5, 6, 9, 11]\n"
     ]
    }
   ],
   "source": [
    "print (bh.heapList)"
   ]
  },
  {
   "cell_type": "code",
   "execution_count": 143,
   "metadata": {
    "collapsed": true
   },
   "outputs": [],
   "source": [
    "bh.insert(12)"
   ]
  },
  {
   "cell_type": "code",
   "execution_count": 144,
   "metadata": {
    "collapsed": false
   },
   "outputs": [
    {
     "name": "stdout",
     "output_type": "stream",
     "text": [
      "[0, 2, 3, 5, 6, 9, 11, 12]\n"
     ]
    }
   ],
   "source": [
    "print (bh.heapList)"
   ]
  },
  {
   "cell_type": "markdown",
   "metadata": {},
   "source": [
    "# Preorder traversal"
   ]
  },
  {
   "cell_type": "code",
   "execution_count": 145,
   "metadata": {
    "collapsed": false
   },
   "outputs": [],
   "source": [
    "def preOrderTraversal(binaryHeap):\n",
    "    \n",
    "    #Root first\n",
    "    #Left first\n",
    "    #Right\n",
    "    \n",
    "    #supposing if a child is not present, it would be indicated by '#'\n",
    "    binaryList = binaryHeap.heapList\n",
    "    \n",
    "    if binaryList[1] != '#':\n",
    "        print (binaryList[1],)\n",
    "    \n",
    "    for i in [2, 3]: #root, left, right\n",
    "        \n",
    "        if binaryList[i] != '#':\n",
    "            print (binaryList[i],)\n",
    "       \n",
    "        k = i\n",
    "        \n",
    "        while ((k * 2) <= binaryHeap.currentsize) and (binaryList[k] != '#'):\n",
    "            \n",
    "            #print (\"k: \", k)\n",
    "            if binaryList[k * 2] != '#':\n",
    "                print (binaryList[k * 2],)\n",
    "            if k * 2 + 1 <= binaryHeap.currentsize:\n",
    "                if binaryList[k * 2 + 1] != '#':\n",
    "                    print (binaryList[k * 2 + 1],)\n",
    "            k = k * 2\n",
    "            #print (\"k: \", k)\n",
    "            "
   ]
  },
  {
   "cell_type": "code",
   "execution_count": 146,
   "metadata": {
    "collapsed": false
   },
   "outputs": [
    {
     "name": "stdout",
     "output_type": "stream",
     "text": [
      "2\n",
      "3\n",
      "6\n",
      "9\n",
      "5\n",
      "11\n",
      "12\n"
     ]
    }
   ],
   "source": [
    "preOrderTraversal(bh)"
   ]
  },
  {
   "cell_type": "code",
   "execution_count": null,
   "metadata": {
    "collapsed": true
   },
   "outputs": [],
   "source": []
  },
  {
   "cell_type": "code",
   "execution_count": null,
   "metadata": {
    "collapsed": true
   },
   "outputs": [],
   "source": []
  }
 ],
 "metadata": {
  "kernelspec": {
   "display_name": "Python 3",
   "language": "python",
   "name": "python3"
  },
  "language_info": {
   "codemirror_mode": {
    "name": "ipython",
    "version": 3
   },
   "file_extension": ".py",
   "mimetype": "text/x-python",
   "name": "python",
   "nbconvert_exporter": "python",
   "pygments_lexer": "ipython3",
   "version": "3.6.0"
  }
 },
 "nbformat": 4,
 "nbformat_minor": 2
}
