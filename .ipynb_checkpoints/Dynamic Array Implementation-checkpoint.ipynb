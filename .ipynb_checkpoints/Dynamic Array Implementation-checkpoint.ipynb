{
 "cells": [
  {
   "cell_type": "markdown",
   "metadata": {},
   "source": [
    "# Dynamic Array Implementation"
   ]
  },
  {
   "cell_type": "code",
   "execution_count": 1,
   "metadata": {
    "collapsed": false,
    "scrolled": true
   },
   "outputs": [],
   "source": [
    "import ctypes\n",
    "import sys\n",
    "\n",
    "class DynamicArray(object):\n",
    "    \n",
    "    def __init__(self):\n",
    "        self.n = 0 #index\n",
    "        self.capacity = 1 #default capacity of array\n",
    "        self.A = self.make_array(self.capacity) #make an array\n",
    "    \n",
    "    def __len__(self):\n",
    "        return self.n #return current number of items\n",
    "    \n",
    "    def __getitem__(self, k):\n",
    "        if not (0 <= k < self.n):\n",
    "            return IndexError(\"k value out of bounds\")\n",
    "        return self.A[k]\n",
    "    \n",
    "    def append(self, ele):\n",
    "        if self.n == self.capacity:\n",
    "            self._resize_array(2 * self.capacity)\n",
    "        \n",
    "        self.A[self.n] = ele\n",
    "        self.n += 1\n",
    "    \n",
    "    def _resize_array(self, new_cap):\n",
    "        B = self.make_array(new_cap)\n",
    "        \n",
    "        for i in range(self.n):\n",
    "            B[i]=self.A[i]\n",
    "        \n",
    "        self.A = B\n",
    "        self.capacity = new_cap\n",
    "    \n",
    "    def make_array(self, new_cap):\n",
    "        return (new_cap * ctypes.py_object)()\n",
    "\n",
    "\n",
    "        \n",
    "        "
   ]
  },
  {
   "cell_type": "code",
   "execution_count": 2,
   "metadata": {
    "collapsed": false
   },
   "outputs": [
    {
     "data": {
      "text/plain": [
       "0"
      ]
     },
     "execution_count": 2,
     "metadata": {},
     "output_type": "execute_result"
    }
   ],
   "source": [
    "array = DynamicArray()\n",
    "len(array)"
   ]
  },
  {
   "cell_type": "code",
   "execution_count": 3,
   "metadata": {
    "collapsed": false
   },
   "outputs": [
    {
     "data": {
      "text/plain": [
       "IndexError('k value out of bounds')"
      ]
     },
     "execution_count": 3,
     "metadata": {},
     "output_type": "execute_result"
    }
   ],
   "source": [
    "array[0]"
   ]
  },
  {
   "cell_type": "code",
   "execution_count": 4,
   "metadata": {
    "collapsed": false
   },
   "outputs": [
    {
     "data": {
      "text/plain": [
       "1"
      ]
     },
     "execution_count": 4,
     "metadata": {},
     "output_type": "execute_result"
    }
   ],
   "source": [
    "array.append(0)\n",
    "array[0]\n",
    "len(array)"
   ]
  },
  {
   "cell_type": "code",
   "execution_count": 5,
   "metadata": {
    "collapsed": false
   },
   "outputs": [
    {
     "name": "stdout",
     "output_type": "stream",
     "text": [
      "1\n",
      "Iter    1, Value  100 and Size   56\n",
      "2\n",
      "Iter    2, Value  100 and Size   56\n",
      "3\n",
      "Iter    3, Value  100 and Size   56\n",
      "4\n",
      "Iter    4, Value  100 and Size   56\n",
      "5\n",
      "Iter    5, Value  100 and Size   56\n",
      "6\n",
      "Iter    6, Value  100 and Size   56\n",
      "7\n",
      "Iter    7, Value  100 and Size   56\n",
      "8\n",
      "Iter    8, Value  100 and Size   56\n",
      "9\n",
      "Iter    9, Value  100 and Size   56\n",
      "10\n",
      "Iter   10, Value  100 and Size   56\n",
      "11\n",
      "Iter   11, Value  100 and Size   56\n",
      "12\n",
      "Iter   12, Value  100 and Size   56\n",
      "13\n",
      "Iter   13, Value  100 and Size   56\n",
      "14\n",
      "Iter   14, Value  100 and Size   56\n",
      "15\n",
      "Iter   15, Value  100 and Size   56\n",
      "16\n",
      "Iter   16, Value  100 and Size   56\n",
      "17\n",
      "Iter   17, Value  100 and Size   56\n",
      "18\n",
      "Iter   18, Value  100 and Size   56\n",
      "19\n",
      "Iter   19, Value  100 and Size   56\n",
      "20\n",
      "Iter   20, Value  100 and Size   56\n",
      "21\n",
      "Iter   21, Value  100 and Size   56\n",
      "22\n",
      "Iter   22, Value  100 and Size   56\n",
      "23\n",
      "Iter   23, Value  100 and Size   56\n",
      "24\n",
      "Iter   24, Value  100 and Size   56\n",
      "25\n",
      "Iter   25, Value  100 and Size   56\n",
      "26\n",
      "Iter   26, Value  100 and Size   56\n",
      "27\n",
      "Iter   27, Value  100 and Size   56\n",
      "28\n",
      "Iter   28, Value  100 and Size   56\n",
      "29\n",
      "Iter   29, Value  100 and Size   56\n",
      "30\n",
      "Iter   30, Value  100 and Size   56\n",
      "31\n",
      "Iter   31, Value  100 and Size   56\n",
      "32\n",
      "Iter   32, Value  100 and Size   56\n",
      "33\n",
      "Iter   33, Value  100 and Size   56\n",
      "34\n",
      "Iter   34, Value  100 and Size   56\n",
      "35\n",
      "Iter   35, Value  100 and Size   56\n",
      "36\n",
      "Iter   36, Value  100 and Size   56\n",
      "37\n",
      "Iter   37, Value  100 and Size   56\n",
      "38\n",
      "Iter   38, Value  100 and Size   56\n",
      "39\n",
      "Iter   39, Value  100 and Size   56\n",
      "40\n",
      "Iter   40, Value  100 and Size   56\n",
      "41\n",
      "Iter   41, Value  100 and Size   56\n",
      "42\n",
      "Iter   42, Value  100 and Size   56\n",
      "43\n",
      "Iter   43, Value  100 and Size   56\n",
      "44\n",
      "Iter   44, Value  100 and Size   56\n",
      "45\n",
      "Iter   45, Value  100 and Size   56\n",
      "46\n",
      "Iter   46, Value  100 and Size   56\n",
      "47\n",
      "Iter   47, Value  100 and Size   56\n",
      "48\n",
      "Iter   48, Value  100 and Size   56\n",
      "49\n",
      "Iter   49, Value  100 and Size   56\n",
      "50\n",
      "Iter   50, Value  100 and Size   56\n",
      "51\n",
      "Iter   51, Value  100 and Size   56\n",
      "52\n",
      "Iter   52, Value  100 and Size   56\n",
      "53\n",
      "Iter   53, Value  100 and Size   56\n",
      "54\n",
      "Iter   54, Value  100 and Size   56\n",
      "55\n",
      "Iter   55, Value  100 and Size   56\n",
      "56\n",
      "Iter   56, Value  100 and Size   56\n",
      "57\n",
      "Iter   57, Value  100 and Size   56\n",
      "58\n",
      "Iter   58, Value  100 and Size   56\n",
      "59\n",
      "Iter   59, Value  100 and Size   56\n",
      "60\n",
      "Iter   60, Value  100 and Size   56\n",
      "61\n",
      "Iter   61, Value  100 and Size   56\n",
      "62\n",
      "Iter   62, Value  100 and Size   56\n",
      "63\n",
      "Iter   63, Value  100 and Size   56\n",
      "64\n",
      "Iter   64, Value  100 and Size   56\n",
      "65\n",
      "Iter   65, Value  100 and Size   56\n",
      "66\n",
      "Iter   66, Value  100 and Size   56\n",
      "67\n",
      "Iter   67, Value  100 and Size   56\n",
      "68\n",
      "Iter   68, Value  100 and Size   56\n",
      "69\n",
      "Iter   69, Value  100 and Size   56\n",
      "70\n",
      "Iter   70, Value  100 and Size   56\n",
      "71\n",
      "Iter   71, Value  100 and Size   56\n",
      "72\n",
      "Iter   72, Value  100 and Size   56\n",
      "73\n",
      "Iter   73, Value  100 and Size   56\n",
      "74\n",
      "Iter   74, Value  100 and Size   56\n",
      "75\n",
      "Iter   75, Value  100 and Size   56\n",
      "76\n",
      "Iter   76, Value  100 and Size   56\n",
      "77\n",
      "Iter   77, Value  100 and Size   56\n",
      "78\n",
      "Iter   78, Value  100 and Size   56\n",
      "79\n",
      "Iter   79, Value  100 and Size   56\n",
      "80\n",
      "Iter   80, Value  100 and Size   56\n",
      "81\n",
      "Iter   81, Value  100 and Size   56\n",
      "82\n",
      "Iter   82, Value  100 and Size   56\n",
      "83\n",
      "Iter   83, Value  100 and Size   56\n",
      "84\n",
      "Iter   84, Value  100 and Size   56\n",
      "85\n",
      "Iter   85, Value  100 and Size   56\n",
      "86\n",
      "Iter   86, Value  100 and Size   56\n",
      "87\n",
      "Iter   87, Value  100 and Size   56\n",
      "88\n",
      "Iter   88, Value  100 and Size   56\n",
      "89\n",
      "Iter   89, Value  100 and Size   56\n",
      "90\n",
      "Iter   90, Value  100 and Size   56\n",
      "91\n",
      "Iter   91, Value  100 and Size   56\n",
      "92\n",
      "Iter   92, Value  100 and Size   56\n",
      "93\n",
      "Iter   93, Value  100 and Size   56\n",
      "94\n",
      "Iter   94, Value  100 and Size   56\n",
      "95\n",
      "Iter   95, Value  100 and Size   56\n",
      "96\n",
      "Iter   96, Value  100 and Size   56\n",
      "97\n",
      "Iter   97, Value  100 and Size   56\n",
      "98\n",
      "Iter   98, Value  100 and Size   56\n",
      "99\n",
      "Iter   99, Value  100 and Size   56\n",
      "100\n",
      "Iter  100, Value  100 and Size   56\n"
     ]
    }
   ],
   "source": [
    "n = 100\n",
    "\n",
    "newArray = DynamicArray()\n",
    "\n",
    "for k in range(100):\n",
    "    \n",
    "    size = sys.getsizeof(newArray)\n",
    "    newArray.append(n)\n",
    "    print (newArray.n)\n",
    "    print (\"Iter {0:4d}, Value {1:4d} and Size {2:4d}\".format(len(newArray), newArray[k], size))\n",
    "\n"
   ]
  },
  {
   "cell_type": "code",
   "execution_count": null,
   "metadata": {
    "collapsed": true
   },
   "outputs": [],
   "source": []
  }
 ],
 "metadata": {
  "kernelspec": {
   "display_name": "Python 3",
   "language": "python",
   "name": "python3"
  },
  "language_info": {
   "codemirror_mode": {
    "name": "ipython",
    "version": 3
   },
   "file_extension": ".py",
   "mimetype": "text/x-python",
   "name": "python",
   "nbconvert_exporter": "python",
   "pygments_lexer": "ipython3",
   "version": "3.6.0"
  }
 },
 "nbformat": 4,
 "nbformat_minor": 2
}
